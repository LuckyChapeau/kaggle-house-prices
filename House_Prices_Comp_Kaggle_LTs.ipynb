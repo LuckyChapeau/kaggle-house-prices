{
 "cells": [
  {
   "cell_type": "markdown",
   "id": "9d77b857",
   "metadata": {},
   "source": [
    "# Machine Learning Trials on the Kaggle House Prices Data Set\n",
    "\n",
    "by Lukas Tschabold\n",
    "\n",
    "Link to Kaggle competition: https://www.kaggle.com/competitions/house-prices-advanced-regression-techniques/\n",
    "\n",
    "## Table of Contents\n",
    "\n",
    "- [Basic Data Preparation](#basic_data_preparation)\n",
    "    - [Data Import and Sorting of Column Types](#data_import)\n",
    "    - [Analyse and Prepare Categorical Features](#categorical)\n",
    "        - [Missing Values](#categorical_missing)\n",
    "        - [Small Categories](#categorical_small_cats)\n",
    "    - [Analyse and Prepare Numercial Features](#numerical)\n",
    "        - [Missing Values](#numerical_missing)\n",
    "        - [High Zero Counts](#numerical_high_zero)\n",
    "        - [Outliers](#numerical_outliers)\n",
    "    - [Analyse and Prepare Count Features](#count)\n",
    "        - [High Zero Counts, Missing Values](#count_high_zero)\n",
    "    - [Feature Engineering](#feature_engineering)\n",
    "    - [Handling Date Features](#date_features)\n",
    "    - [Final Data Preparation Steps](#final_prep)\n",
    "    - [Model Estimation](#model_estimation)\n",
    "        - [Lasso Model](#lasso)\n",
    "        - [XGBoost Regressor](#XGB)\n",
    "        - [AdaBoost Regressor](#AdaBoost)\n",
    "        - [Linear Support Vector Regressor](#SVR)\n",
    "        - [Random Forest](#forest)\n",
    "        - [K Nearest Neighbors](#KNR)\n",
    "    - [Model Stacking](#model_stacking)\n",
    "    - [Experimental: Fitting a Neuronal Network](#neuronal_network)"
   ]
  },
  {
   "cell_type": "code",
   "execution_count": 74,
   "id": "287ba5ec-ce86-4dd2-bd27-3399cf6fc018",
   "metadata": {},
   "outputs": [],
   "source": [
    "import copy\n",
    "import warnings\n",
    "import black\n",
    "import jupyter_black\n",
    "from IPython.display import display\n",
    "import pandas as pd\n",
    "import numpy as np\n",
    "import tools.tools\n",
    "import seaborn as sns\n",
    "import matplotlib.pyplot as plt\n",
    "from sklearn.model_selection import train_test_split, GridSearchCV\n",
    "from sklearn.model_selection import KFold\n",
    "from sklearn.impute import SimpleImputer\n",
    "from sklearn.preprocessing import PowerTransformer, StandardScaler\n",
    "from sklearn.compose import ColumnTransformer\n",
    "from sklearn.pipeline import Pipeline\n",
    "from sklearn.metrics import mean_squared_error, r2_score\n",
    "from sklearn.linear_model import Lasso, RidgeCV\n",
    "from sklearn.svm import LinearSVR\n",
    "from sklearn.ensemble import RandomForestRegressor, AdaBoostRegressor\n",
    "from sklearn.neighbors import KNeighborsRegressor\n",
    "from sklearn.tree import DecisionTreeRegressor\n",
    "from xgboost import XGBRegressor\n",
    "from scipy import stats\n",
    "\n",
    "# Set up black autoformatting in Jupyter\n",
    "jupyter_black.load(lab=False)\n",
    "\n",
    "# Tensorflow will be imported in the according section below\n",
    "# It strangely interferes with jupyter-black"
   ]
  },
  {
   "cell_type": "markdown",
   "id": "c35e85ca-2d81-4e0c-b722-c3d3fb9ea972",
   "metadata": {},
   "source": [
    "## Basic Data Preparation <a class=\"anchor\" id=\"basic_data_preparation\"></a>\n",
    "### Data Import and Sorting of Column Types <a class=\"anchor\" id=\"data_import\"></a>\n",
    "\n",
    "As the data originates from a Kaggle competition, there are two data sets 'train' (train.csv) and 'test' (test.csv). \n",
    "\n",
    "Note that these do not refer to the train and test data sets that we commonly use for training and testing an estimator: The 'test' data holds *unlabeled* data used for predicting and ranking in the competition whereby the number of uploads per day is limited. Only Kaggle knows the labels of 'test.csv'.\n",
    "\n",
    "Hence, for locally training and testing an estimator we have to split 'train' into our common train and test sets.\n",
    "\n",
    "Therefore, during basic data preparation 'train data' will refer to the Kaggle 'train' data set. Likewise, 'test data' will refer to the Kaggle 'test' data. After I am done with basic data preparation and move on to training an estimator, 'train' will be split into X_train, y_train, X_test, and y_test.\n",
    "\n",
    "The data set comes with a large number of features - 79 in total - which I devide into numerical (continuous), categorical (object), count and date features. The train data set contains 1460 observations."
   ]
  },
  {
   "cell_type": "code",
   "execution_count": 4,
   "id": "05f1df3d",
   "metadata": {},
   "outputs": [],
   "source": [
    "###### Data Import ######\n",
    "train = pd.read_csv(\"train.csv\", index_col=\"Id\")\n",
    "# Alphabetically sort the columns/features\n",
    "train.sort_index(axis=1, inplace=True)\n",
    "train_backup = train.copy()\n",
    "\n",
    "test = pd.read_csv(\"test.csv\", index_col=\"Id\")\n",
    "test.sort_index(axis=1, inplace=True)\n",
    "test_backup = test.copy()\n",
    "\n",
    "###### Column Types ######\n",
    "dtypes = train.dtypes\n",
    "\n",
    "object_cols = dtypes[dtypes == \"object\"].index.tolist()\n",
    "numeric_cols = dtypes[dtypes != \"object\"].index.tolist()\n",
    "\n",
    "# There are some exceptions (see data description)\n",
    "additional_object_cols = [\"MSSubClass\", \"OverallQual\", \"OverallCond\"]\n",
    "\n",
    "object_cols += additional_object_cols\n",
    "\n",
    "for col in additional_object_cols:\n",
    "    train[col] = train[col].astype(\"str\")\n",
    "    test[col] = test[col].astype(\"str\")\n",
    "\n",
    "date_cols = [\"YearBuilt\", \"YearRemodAdd\", \"YrSold\", \"MoSold\", \"GarageYrBlt\"]\n",
    "\n",
    "count_cols = [\n",
    "    \"FullBath\",\n",
    "    \"HalfBath\",\n",
    "    \"GarageCars\",\n",
    "    \"Fireplaces\",\n",
    "    \"BsmtHalfBath\",\n",
    "    \"KitchenAbvGr\",\n",
    "    \"BedroomAbvGr\",\n",
    "    \"BsmtFullBath\",\n",
    "    \"TotRmsAbvGrd\",\n",
    "]\n",
    "\n",
    "# Update numeric_cols\n",
    "numeric_cols = list(\n",
    "    set(numeric_cols) - set(additional_object_cols) - set(date_cols) - set(count_cols)\n",
    ")\n",
    "\n",
    "# Don't include the target\n",
    "numeric_cols.remove(\"SalePrice\")\n",
    "\n",
    "# Alphabetically sort the column lists\n",
    "numeric_cols.sort()\n",
    "count_cols.sort()\n",
    "object_cols.sort()\n",
    "date_cols.sort()"
   ]
  },
  {
   "cell_type": "markdown",
   "id": "c41c9742-870a-4ded-b1f4-4992ca78a816",
   "metadata": {},
   "source": [
    "Note that I decided to also add 'MSSubClass', 'OverallQual' and 'OverallCond' to the categorical/object columns. 'OverallQual' and 'OverallCond' are ordinal integer based features with values ranging from 1 to 10. I decided to treat them as categorical since using dummies in this case (or target encoding) gives the model more flexibility. It also technically makes sense as these features obviously are discretely distributed, not continuously.\n",
    "\n",
    "### Analyse and Prepare Categorical Features <a class=\"anchor\" id=\"categorical\"></a>\n",
    "#### Missing Values <a class=\"anchor\" id=\"categorical_missing\"></a>\n",
    "\n",
    "Looking at the Kaggle training data set, many of the categorical features seem to have (lots of) missing values. However, consulting the data description reveals that for a number of the categorical features the value 'NA' usually means that for the corresponding observations the sold house *itself* does not exhibit the respective feature (e.g. a pool or basement). This issue concerns the following features:\n",
    "\n",
    "'Alley', 'BsmtQual', 'BsmtCond', 'BsmtExposure', 'BsmtFinType1', 'BsmtFinType2', 'FireplaceQu', 'GarageType', 'GarageFinish', 'GarageQual', 'GarageCond', 'PoolQC', 'Fence', 'MiscFeature'\n",
    "\n",
    "In these cases NAs can be replaced by the substitute category 'None'.\n",
    "\n",
    "This sounds easy at first. However, looking at the training data, one problem here is the slight imbalance in the number of missing values in the 'Bsmt' features which indicates the presence of *real* missing values in 'BsmtExposure' and 'BsmntFinType2'. I keep these particular values as missing (see code). The Kaggle test data set shows the same issue additionally with the 'Garage' features. Here I proceed likewise.\n",
    "\n",
    "Imputation is carried out later on using scikit-learn tools. I will use the mode in this case. This should be admissible as the number of missing values after above's replacements is low for all categorical features."
   ]
  },
  {
   "cell_type": "code",
   "execution_count": 5,
   "id": "d3650b85-cf7a-48fc-85d8-71ecb13ba721",
   "metadata": {},
   "outputs": [
    {
     "name": "stdout",
     "output_type": "stream",
     "text": [
      "Categorical features: Fractions of NAs in TRAIN data (if any)\n"
     ]
    },
    {
     "data": {
      "text/plain": [
       "Alley           0.937671\n",
       "BsmtCond        0.025342\n",
       "BsmtExposure    0.026027\n",
       "BsmtFinType1    0.025342\n",
       "BsmtFinType2    0.026027\n",
       "BsmtQual        0.025342\n",
       "Electrical      0.000685\n",
       "Fence           0.807534\n",
       "FireplaceQu     0.472603\n",
       "GarageCond      0.055479\n",
       "GarageFinish    0.055479\n",
       "GarageQual      0.055479\n",
       "GarageType      0.055479\n",
       "MasVnrType      0.005479\n",
       "MiscFeature     0.963014\n",
       "PoolQC          0.995205\n",
       "dtype: float64"
      ]
     },
     "metadata": {},
     "output_type": "display_data"
    },
    {
     "name": "stdout",
     "output_type": "stream",
     "text": [
      "\n",
      "After replacing false NAs:\n",
      "Categorical features: Fractions of NAs in TRAIN data (if any)\n"
     ]
    },
    {
     "data": {
      "text/plain": [
       "BsmtExposure    0.000685\n",
       "BsmtFinType2    0.000685\n",
       "Electrical      0.000685\n",
       "MasVnrType      0.005479\n",
       "dtype: float64"
      ]
     },
     "metadata": {},
     "output_type": "display_data"
    },
    {
     "name": "stdout",
     "output_type": "stream",
     "text": [
      "\n",
      "After replacing false NAs:\n",
      "Categorical features: Fractions of NAs in TEST data (if any)\n"
     ]
    },
    {
     "data": {
      "text/plain": [
       "BsmtCond        0.002056\n",
       "BsmtExposure    0.001371\n",
       "BsmtQual        0.001371\n",
       "Exterior1st     0.000685\n",
       "Exterior2nd     0.000685\n",
       "Functional      0.001371\n",
       "GarageCond      0.001371\n",
       "GarageFinish    0.001371\n",
       "GarageQual      0.001371\n",
       "KitchenQual     0.000685\n",
       "MSZoning        0.002742\n",
       "MasVnrType      0.010966\n",
       "SaleType        0.000685\n",
       "Utilities       0.001371\n",
       "dtype: float64"
      ]
     },
     "metadata": {},
     "output_type": "display_data"
    }
   ],
   "source": [
    "###### Object Cols: Missing Values ######\n",
    "# Look for NAs in train data and\n",
    "# show the fraction of NAs for those cols with NAs\n",
    "\n",
    "# Helper function\n",
    "def get_fractions_of_nas(df, cols):\n",
    "    fraction_of_nas = df[cols].isnull().sum() / len(df)\n",
    "    fraction_of_nas = fraction_of_nas.loc[fraction_of_nas > 0]\n",
    "    return fraction_of_nas\n",
    "\n",
    "\n",
    "# Print the fractions of NAs in train data\n",
    "fractions_of_nas = get_fractions_of_nas(train, object_cols)\n",
    "print(\"Categorical features: Fractions of NAs in TRAIN data (if any)\")\n",
    "display(fractions_of_nas)\n",
    "\n",
    "# Create a new feature 'None' for 'special NA cols';\n",
    "# For these features, 'NA' means that the house itself does not have the respective feature\n",
    "special_na_cols = [\n",
    "    \"Alley\",\n",
    "    \"BsmtQual\",\n",
    "    \"BsmtCond\",\n",
    "    \"BsmtExposure\",\n",
    "    \"BsmtFinType1\",\n",
    "    \"BsmtFinType2\",\n",
    "    \"FireplaceQu\",\n",
    "    \"GarageType\",\n",
    "    \"GarageFinish\",\n",
    "    \"GarageQual\",\n",
    "    \"GarageCond\",\n",
    "    \"PoolQC\",\n",
    "    \"Fence\",\n",
    "    \"MiscFeature\",\n",
    "]\n",
    "\n",
    "# Treat NAs in the TRAIN data set:\n",
    "\n",
    "# For treating impalances in 'Bsmt' and 'Garage' features\n",
    "# I create boolean masks which indicate the presence of a garage or basement.\n",
    "# I knowingly leave out the numeric 'Bsmt' and 'Garage' features in this process\n",
    "# (that still is a to-do).\n",
    "\n",
    "bsmt_cols = [col for col in special_na_cols if col.startswith(\"Bsmt\")]\n",
    "garage_cols = [col for col in special_na_cols if col.startswith(\"Garage\")]\n",
    "\n",
    "bsmt_mask = pd.Series(np.full(len(train), False), index=train.index)\n",
    "garage_mask = bsmt_mask.copy()\n",
    "\n",
    "for col in bsmt_cols:\n",
    "    bsmt_mask = bsmt_mask | train[col].notnull()\n",
    "for col in garage_cols:\n",
    "    garage_mask = garage_mask | train[col].notnull()\n",
    "\n",
    "# Helper function\n",
    "def replace_false_nas(df, cols, mask):\n",
    "    for col in cols:\n",
    "        # Only observations with False in mask are candidates\n",
    "        # for false NAs\n",
    "        replace_mask = df[col].isnull() & ~mask\n",
    "        df.loc[replace_mask, col] = \"None\"\n",
    "    return\n",
    "\n",
    "\n",
    "# Pandas data frames are not local to a function when using .loc (only after .copy()),\n",
    "# hence this will do what I want:\n",
    "replace_false_nas(train, bsmt_cols, bsmt_mask)\n",
    "replace_false_nas(train, garage_cols, garage_mask)\n",
    "\n",
    "# Create a new category 'None' for the cols in\n",
    "# special_na_cols but NOT in bsmt_cols and garage_cols\n",
    "tmp_col_list = list(set(special_na_cols) - set(bsmt_cols + garage_cols))\n",
    "train[tmp_col_list] = train[tmp_col_list].fillna(\"None\")\n",
    "\n",
    "# Print fractions again\n",
    "fractions_of_nas = get_fractions_of_nas(train, object_cols)\n",
    "print(\"\\nAfter replacing false NAs:\")\n",
    "print(\"Categorical features: Fractions of NAs in TRAIN data (if any)\")\n",
    "display(fractions_of_nas)\n",
    "\n",
    "# Treat NAs in the TEST data set\n",
    "# -> Use the same recipe as above\n",
    "\n",
    "# Update boolean masks\n",
    "bsmt_mask = pd.Series(np.full(len(test), False), index=test.index)\n",
    "garage_mask = bsmt_mask.copy()\n",
    "\n",
    "for col in bsmt_cols:\n",
    "    bsmt_mask = bsmt_mask | test[col].notnull()\n",
    "for col in garage_cols:\n",
    "    garage_mask = garage_mask | test[col].notnull()\n",
    "\n",
    "# Replace false NAs\n",
    "replace_false_nas(test, bsmt_cols, bsmt_mask)\n",
    "replace_false_nas(test, garage_cols, garage_mask)\n",
    "test[tmp_col_list] = test[tmp_col_list].fillna(\"None\")\n",
    "\n",
    "# Print fractions of NAs for test data after replacement\n",
    "fractions_of_nas = get_fractions_of_nas(test, object_cols)\n",
    "print(\"\\nAfter replacing false NAs:\")\n",
    "print(\"Categorical features: Fractions of NAs in TEST data (if any)\")\n",
    "display(fractions_of_nas)"
   ]
  },
  {
   "cell_type": "markdown",
   "id": "06dbc10a-f1f6-4445-a376-788e54b14db2",
   "metadata": {},
   "source": [
    "#### Small Categories <a class=\"anchor\" id=\"categorical_small_cats\"></a>\n",
    "\n",
    "Many categorical variables contain very small categories:"
   ]
  },
  {
   "cell_type": "code",
   "execution_count": 6,
   "id": "7ddce5b7-d6b1-4164-bc53-6b3e20b00b6c",
   "metadata": {},
   "outputs": [
    {
     "name": "stdout",
     "output_type": "stream",
     "text": [
      "Categorical features: Fractions of the smallest category in TRAIN data\n",
      "Showing the first 15 columns...\n"
     ]
    },
    {
     "data": {
      "text/plain": [
       "Utilities      0.000685\n",
       "Functional     0.000685\n",
       "MiscFeature    0.000685\n",
       "Exterior2nd    0.000685\n",
       "Exterior1st    0.000685\n",
       "Heating        0.000685\n",
       "ExterCond      0.000685\n",
       "Electrical     0.000685\n",
       "Condition2     0.000685\n",
       "OverallCond    0.000685\n",
       "RoofMatl       0.000685\n",
       "HeatingQC      0.000685\n",
       "OverallQual    0.001370\n",
       "PoolQC         0.001370\n",
       "RoofStyle      0.001370\n",
       "dtype: float64"
      ]
     },
     "metadata": {},
     "output_type": "display_data"
    }
   ],
   "source": [
    "# Get and print fractions of smallest category\n",
    "fractions_of_smallest_category = train[object_cols].apply(\n",
    "    lambda s: (s.value_counts() / len(s)).min()\n",
    ")\n",
    "\n",
    "print(\"Categorical features: Fractions of the smallest category in TRAIN data\")\n",
    "print(\"Showing the first 15 columns...\")\n",
    "display(fractions_of_smallest_category.sort_values().head(15))"
   ]
  },
  {
   "cell_type": "markdown",
   "id": "94b42d44-1cf6-484c-a83b-57aaa2656898",
   "metadata": {},
   "source": [
    "This, of course, can lead to overfitting.\n",
    "\n",
    "Additionally, some of the variables show a high number of categories (more than 8) which raises the curse of dimensionality when creating dummies."
   ]
  },
  {
   "cell_type": "code",
   "execution_count": 7,
   "id": "7d5cda24-dd98-46e4-a5b0-7ed60f889a36",
   "metadata": {},
   "outputs": [
    {
     "name": "stdout",
     "output_type": "stream",
     "text": [
      "Categorical features: Features with many categories in TRAIN data\n"
     ]
    },
    {
     "data": {
      "text/plain": [
       "Neighborhood    25\n",
       "Exterior2nd     16\n",
       "MSSubClass      15\n",
       "Exterior1st     15\n",
       "OverallQual     10\n",
       "SaleType         9\n",
       "Condition1       9\n",
       "OverallCond      9\n",
       "dtype: int64"
      ]
     },
     "metadata": {},
     "output_type": "display_data"
    }
   ],
   "source": [
    "# Get and print the number of categories\n",
    "number_of_categories = train[object_cols].nunique().sort_values(ascending=False)\n",
    "print(\"Categorical features: Features with many categories in TRAIN data\")\n",
    "display(number_of_categories.loc[number_of_categories > 8])"
   ]
  },
  {
   "cell_type": "markdown",
   "id": "e6cb90bc-ef6a-4bb5-8cd1-fbfa48a8554a",
   "metadata": {},
   "source": [
    "A widely used approach in such a case is to apply target encoding with regularization (following [this paper](https://dl.acm.org/doi/10.1145/507533.507538)) which I will follow here, too. This will be done in the estimation section in concert with the remaining sklearn tools. For that end, I have written my own target encoder which can fill in unknown categories in the test data with the train overall target mean.\n",
    "\n",
    "### Analyze and Prepare Numerical Features <a class=\"anchor\" id=\"numerical\"></a>\n",
    "#### Missing values <a class=\"anchor\" id=\"numerical_missing\"></a>\n",
    "\n",
    "From the numerical features only a few show missing values. As the number of NAs is not substantial here, I will impute these by the mean:"
   ]
  },
  {
   "cell_type": "code",
   "execution_count": 8,
   "id": "baf46fd9-72d5-4efb-90b2-f6afde2fa3f7",
   "metadata": {},
   "outputs": [
    {
     "name": "stdout",
     "output_type": "stream",
     "text": [
      "Numerical features: Number of missing values in TRAIN data\n"
     ]
    },
    {
     "data": {
      "text/plain": [
       "1stFlrSF           0\n",
       "2ndFlrSF           0\n",
       "3SsnPorch          0\n",
       "BsmtFinSF1         0\n",
       "BsmtFinSF2         0\n",
       "BsmtUnfSF          0\n",
       "EnclosedPorch      0\n",
       "GarageArea         0\n",
       "GrLivArea          0\n",
       "LotArea            0\n",
       "LotFrontage      259\n",
       "LowQualFinSF       0\n",
       "MasVnrArea         8\n",
       "MiscVal            0\n",
       "OpenPorchSF        0\n",
       "PoolArea           0\n",
       "ScreenPorch        0\n",
       "TotalBsmtSF        0\n",
       "WoodDeckSF         0\n",
       "dtype: int64"
      ]
     },
     "metadata": {},
     "output_type": "display_data"
    }
   ],
   "source": [
    "###### Numerical Cols ######\n",
    "# Print number of missing values\n",
    "print(\"Numerical features: Number of missing values in TRAIN data\")\n",
    "display(train[numeric_cols].isnull().sum())"
   ]
  },
  {
   "cell_type": "markdown",
   "id": "9069549a-96c8-4ee7-a070-c0c2bcbde36c",
   "metadata": {},
   "source": [
    "#### High Zero Counts <a class=\"anchor\" id=\"numerical_hight_zero\"></a>\n",
    "\n",
    "More of an issue is the large share of zeros in some of the numerical features. Here the zeros indicate that a house in the sample does not have the respective feature (basement, 2nd floor, etc.), which seems to apply to all numercial features that exhibit zero values. \n",
    "\n",
    "Note that none of the features show any negative observations which comes as expected as most of them hold information about the size of some area in square feet."
   ]
  },
  {
   "cell_type": "code",
   "execution_count": 9,
   "id": "0b8e606d-1176-42b0-970b-659f7fab95bb",
   "metadata": {},
   "outputs": [
    {
     "name": "stdout",
     "output_type": "stream",
     "text": [
      "Numerical features: Fractions of zeros in TRAIN data\n"
     ]
    },
    {
     "data": {
      "text/plain": [
       "1stFlrSF         0.000000\n",
       "2ndFlrSF         0.567808\n",
       "3SsnPorch        0.983562\n",
       "BsmtFinSF1       0.319863\n",
       "BsmtFinSF2       0.885616\n",
       "BsmtUnfSF        0.080822\n",
       "EnclosedPorch    0.857534\n",
       "GarageArea       0.055479\n",
       "GrLivArea        0.000000\n",
       "LotArea          0.000000\n",
       "LotFrontage      0.000000\n",
       "LowQualFinSF     0.982192\n",
       "MasVnrArea       0.589726\n",
       "MiscVal          0.964384\n",
       "OpenPorchSF      0.449315\n",
       "PoolArea         0.995205\n",
       "ScreenPorch      0.920548\n",
       "TotalBsmtSF      0.025342\n",
       "WoodDeckSF       0.521233\n",
       "dtype: float64"
      ]
     },
     "metadata": {},
     "output_type": "display_data"
    }
   ],
   "source": [
    "# Get and print fractions of zeros\n",
    "fractions_of_zeros = train[numeric_cols].apply(lambda x: (x == 0).sum() / len(x))\n",
    "print(\"Numerical features: Fractions of zeros in TRAIN data\")\n",
    "display(fractions_of_zeros)"
   ]
  },
  {
   "cell_type": "markdown",
   "id": "8f9a93f5-1adb-4136-a6ed-bdf9d748d70f",
   "metadata": {},
   "source": [
    "One problem with a large share of zeros is that when performing standard scaling the estimates of the variance and mean will be biased. Basically, we should only take the strictly positive values into account as only these give indication about the distribution of the size of the garage or porch, for example.\n",
    "\n",
    "Additionally, mostly all of the numeric features seem to be approximately log-normally distributed when only examining strictly positive observations. Let's look at two examples:"
   ]
  },
  {
   "cell_type": "code",
   "execution_count": 10,
   "id": "84a5c3a8-4cbe-468c-9829-b981c734692f",
   "metadata": {},
   "outputs": [
    {
     "data": {
      "image/png": "[encoded data removed]",
      "text/plain": [
       "<Figure size 432x288 with 2 Axes>"
      ]
     },
     "metadata": {
      "needs_background": "light"
     },
     "output_type": "display_data"
    },
    {
     "data": {
      "image/png": "[encoded data removed]",
      "text/plain": [
       "<Figure size 432x288 with 2 Axes>"
      ]
     },
     "metadata": {
      "needs_background": "light"
     },
     "output_type": "display_data"
    }
   ],
   "source": [
    "# Make histrogram and KDE plot of 'WoodDeckSF' and 'MasVnrArea'\n",
    "# only for the strictly positive observations\n",
    "tmp_col_list = [\"WoodDeckSF\", \"MasVnrArea\"]\n",
    "\n",
    "for col in tmp_col_list:\n",
    "    tmp_plot_df = train.loc[train[col] > 0, [col]].copy()\n",
    "    tmp_plot_df[col] = np.log(tmp_plot_df[col])\n",
    "    fig, ax1 = plt.subplots()\n",
    "    ax2 = ax1.twinx()\n",
    "    ax1.set(xlabel=\"log \" + col)\n",
    "    sns.histplot(data=tmp_plot_df, x=col, bins=20, ax=ax1)\n",
    "    sns.kdeplot(data=tmp_plot_df, x=col, ax=ax2).set(\n",
    "        title=\"Distribution plot of log \" + col\n",
    "    )\n",
    "    plt.show()\n",
    "\n",
    "del tmp_plot_df"
   ]
  },
  {
   "cell_type": "markdown",
   "id": "84e105b3-bedf-4c39-8432-160dac483e2c",
   "metadata": {},
   "source": [
    "However, up until now I have not found a consistent way to incorporate the implicit information about feature presence into my estimators. For me this is still an area of research and I wished I could somehow split the information flow in a linear estimator such that a feature only exercises influence when it is actually present for this observation ($> 0$). In such a setup I could standard scale only the strictly positive observations using the restricted estimators for the mean and variance.\n",
    "\n",
    "Until I have found a solution to this, I will stick with sklearn's PowerTransformer which can deal with zero observations using the Yeo-Johnson transformations. So I will apply the PowerTransformer to both kind of numerical features, the ones with and without zero values."
   ]
  },
  {
   "cell_type": "markdown",
   "id": "e7554bc1-6813-4258-ae54-3274c92722bf",
   "metadata": {},
   "source": [
    "#### Outliers <a class=\"anchor\" id=\"numerical_outliers\"></a>\n",
    "\n",
    "For detecting outliers, instead of an automated I followed a manual, visual approach. As all numerical features only take values $\\geq 0$ and seem to be log-normally distributed (at least the strictly positive observations), outlier detection mostly means looking at the largest values of a feature. Hence, for each feature we can, in principle, define the absolute number of largest values that we deem to be outliers. This allows me to play around with these numbers when I am not certain about some observations, and check the influence of these data points on the model's performance.\n",
    "\n",
    "There are two notable exception to this simple approach, though, as I decided to remove only the second largest observation of 'OpenPorchSF' and additionally the 8th largest observation of 'LotFrontage'. This comes as I proceeded by looking at scatter plots of the numercial features against the target 'SalePrice'.\n",
    "\n",
    "The following code shows what I came up with. I also show a scatter plot of 'LotArea' vs. 'SalePrice' as an example.\n",
    "\n",
    "For some other project I would consider trying out sklearn's IsolationForest. However, I would always take a look at some visualisations in order to make a final decision - given the numer of features is not completely overwhelming."
   ]
  },
  {
   "cell_type": "code",
   "execution_count": 11,
   "id": "f153aad9-48ad-42c7-88d3-56af8808e43c",
   "metadata": {},
   "outputs": [
    {
     "data": {
      "image/png": "[encoded data removed]",
      "text/plain": [
       "<Figure size 432x288 with 1 Axes>"
      ]
     },
     "metadata": {
      "needs_background": "light"
     },
     "output_type": "display_data"
    }
   ],
   "source": [
    "###### Outliers in Numeric Cols ######\n",
    "# Plot 'LotArea' against 'SalePrice' and highlight identified outliers\n",
    "tmp_plot_df = train[[\"SalePrice\", \"LotArea\"]].copy()\n",
    "outliers = train[\"LotArea\"].sort_values().iloc[-7:].index\n",
    "tmp_plot_df[\"Outlier\"] = tmp_plot_df.index.isin(outliers)\n",
    "tmp_plot_df[\"Outlier\"] = tmp_plot_df[\"Outlier\"].map({True: \"outlier\", False: \"inlier\"})\n",
    "sns.scatterplot(data=tmp_plot_df, x=\"LotArea\", y=\"SalePrice\", hue=\"Outlier\")\n",
    "plt.legend(title=False)\n",
    "plt.show()\n",
    "\n",
    "# Drop these numbers of largest values\n",
    "number_of_outliers_to_drop = {\n",
    "    \"1stFlrSF\": 1,\n",
    "    \"BsmtFinSF1\": 2,\n",
    "    \"GarageArea\": 4,\n",
    "    \"GrLivArea\": 2,\n",
    "    \"LotArea\": 7,\n",
    "    \"LotFrontage\": 2,\n",
    "    \"LowQualFinSF\": 1,\n",
    "    \"MiscVal\": 3,\n",
    "    \"TotalBsmtSF\": 1,\n",
    "}\n",
    "\n",
    "# Init a drop list\n",
    "indexes_to_drop = []\n",
    "\n",
    "# Special tratment for OpenPorchSF\n",
    "index_to_drop = train[\"OpenPorchSF\"].dropna().sort_values().index[-2]\n",
    "indexes_to_drop.append(index_to_drop)\n",
    "\n",
    "# Special treatment for LotFrontage\n",
    "index_to_drop = train[\"LotFrontage\"].dropna().sort_values().index[-8]\n",
    "indexes_to_drop.append(index_to_drop)\n",
    "\n",
    "# Regular treatment using above's drop dictionary\n",
    "for col, num in number_of_outliers_to_drop.items():\n",
    "    sorted_col = train[col].dropna().sort_values()\n",
    "    indexes_to_drop.extend(sorted_col.index[-num:])\n",
    "\n",
    "train.drop(indexes_to_drop, axis=0, inplace=True)"
   ]
  },
  {
   "cell_type": "markdown",
   "id": "1fff27e2-8252-4e92-abdb-3b983620c769",
   "metadata": {},
   "source": [
    "### Analyze and Prepare Count Features <a class=\"anchor\" id=\"count\"></a>\n",
    "#### High Zero Counts, Missing Values <a class=\"anchor\" id=\"count_high_zero\"></a>\n",
    "\n",
    "Also some of the count features suffer from many zeros. But in contrast to the continuous numercial features, a zero carries no 'hidden' information. Hence, they should not be a problem.\n",
    "\n",
    "I decide to impute missing values with the mode and also apply the PowerTransformer. The train data set does not contain missing values but the test data does."
   ]
  },
  {
   "cell_type": "code",
   "execution_count": 12,
   "id": "91683d3c-47ae-48ae-b44f-1ddfb3fe8046",
   "metadata": {},
   "outputs": [
    {
     "name": "stdout",
     "output_type": "stream",
     "text": [
      "Count features: Fractions of zeros in TRAIN data\n"
     ]
    },
    {
     "data": {
      "text/plain": [
       "BedroomAbvGr    0.004161\n",
       "BsmtFullBath    0.587379\n",
       "BsmtHalfBath    0.943828\n",
       "Fireplaces      0.475035\n",
       "FullBath        0.006241\n",
       "GarageCars      0.054092\n",
       "HalfBath        0.624133\n",
       "KitchenAbvGr    0.000693\n",
       "TotRmsAbvGrd    0.000000\n",
       "dtype: float64"
      ]
     },
     "metadata": {},
     "output_type": "display_data"
    }
   ],
   "source": [
    "###### Count cols ######\n",
    "# Print fractions of zeros in count features\n",
    "fractions_of_zeros = train[count_cols].apply(lambda x: (x == 0).sum() / len(x))\n",
    "print(\"Count features: Fractions of zeros in TRAIN data\")\n",
    "display(fractions_of_zeros)"
   ]
  },
  {
   "cell_type": "markdown",
   "id": "060b4930-a561-4def-8b7c-b9533a2079b9",
   "metadata": {},
   "source": [
    "### Feature Engineering <a class=\"anchor\" id=\"feature_engineering\"></a>\n",
    "\n",
    "I decide to include the age of the house and the garage at sale as a new feature. Also I add the time since the last remod.\n",
    "\n",
    "Note that 'GarageYrBlt' has some missing values in the train set that will handed on to 'GarageAge' and will be imputed later on."
   ]
  },
  {
   "cell_type": "code",
   "execution_count": 13,
   "id": "796177cf-ae91-45a5-ba40-1af47c78b88d",
   "metadata": {},
   "outputs": [],
   "source": [
    "###### Create new features ######\n",
    "# Create feature Age\n",
    "train[\"Age\"] = train[\"YrSold\"] - train[\"YearBuilt\"]\n",
    "test[\"Age\"] = test[\"YrSold\"] - test[\"YearBuilt\"]\n",
    "\n",
    "# Create feature GarageAge\n",
    "train[\"GarageAge\"] = train[\"YrSold\"] - train[\"GarageYrBlt\"]\n",
    "test[\"GarageAge\"] = test[\"YrSold\"] - test[\"GarageYrBlt\"]\n",
    "\n",
    "# Create feature RemodAge\n",
    "train[\"RemodAge\"] = train[\"YrSold\"] - train[\"YearRemodAdd\"]\n",
    "test[\"RemodAge\"] = test[\"YrSold\"] - test[\"YearRemodAdd\"]\n",
    "\n",
    "# Update numeric cols\n",
    "numeric_cols += [\"Age\", \"GarageAge\", \"RemodAge\"]"
   ]
  },
  {
   "cell_type": "markdown",
   "id": "e445c18f-a231-42db-904d-1713436ff929",
   "metadata": {},
   "source": [
    "### Handling Date Features <a class=\"anchor\" id=\"date_features\"></a>\n",
    "\n",
    "The date features 'YrSold', 'MoSold' and 'YearBuilt' might actually provide some information on the sale price. For instance, the housing market might have been more tight in some years than in others. Also there might be some fluctuation (seasonality) over the year. And houses built in some years might be of better quality than built in other years (building style).\n",
    "\n",
    "So I decided to include these particular date features as cateogrical features. There are no missing values in the train data set for these features.\n",
    "\n",
    "While 'YrSold' lies within 2007 and 2010, 'YearBuilt' takes a wide range from 1872 until 2010. For not creating to many categories, I bin 'YearBuilt' into decades."
   ]
  },
  {
   "cell_type": "code",
   "execution_count": 14,
   "id": "3d878f17-b1ba-4716-a613-30800185511b",
   "metadata": {},
   "outputs": [],
   "source": [
    "# Bin 'YearBuilt' into decades\n",
    "train[\"YearBuilt\"] = round(train[\"YearBuilt\"], -1)\n",
    "test[\"YearBuilt\"] = round(test[\"YearBuilt\"], -1)\n",
    "\n",
    "# Move 'YrSold', 'MoSold' and 'YearBuilt' to the categorical columns\n",
    "for col in [\"YrSold\", \"MoSold\", \"YearBuilt\"]:\n",
    "    train[col] = train[col].astype(\"str\")\n",
    "    test[col] = test[col].astype(\"str\")\n",
    "    object_cols.append(col)\n",
    "    date_cols.remove(col)"
   ]
  },
  {
   "cell_type": "markdown",
   "id": "ae9b7a6f-eb02-46ac-84f7-75f96423c4ad",
   "metadata": {},
   "source": [
    "### Final Basic Data Preparation Steps <a class=\"anchor\" id=\"final_prep\"></a>\n",
    "\n",
    "The following code performs some final data preparation steps including splitting the 'train' data into our common train and test sets. The remaining date columns are dropped from the data."
   ]
  },
  {
   "cell_type": "code",
   "execution_count": 15,
   "id": "96ae87b0-899b-4432-913a-b8346b9d4f0f",
   "metadata": {},
   "outputs": [
    {
     "name": "stdout",
     "output_type": "stream",
     "text": [
      "Final shape of X_train: (1081, 80)\n"
     ]
    }
   ],
   "source": [
    "###### Final base preparation ######\n",
    "# Assure NA value consistency for sklearn\n",
    "train.fillna(np.nan, inplace=True)\n",
    "test.fillna(np.nan, inplace=True)\n",
    "\n",
    "# Split X and y\n",
    "y = train[\"SalePrice\"].copy()\n",
    "X = train.drop(\"SalePrice\", axis=1).copy()\n",
    "\n",
    "# Since the objective is to predict the log of the sale price\n",
    "y = np.log(y)\n",
    "\n",
    "# Sort columns again\n",
    "# Note the drop of the remaining date columns\n",
    "numeric_cols.sort()\n",
    "count_cols.sort()\n",
    "object_cols.sort()\n",
    "\n",
    "all_cols = numeric_cols + count_cols + object_cols\n",
    "X = X[all_cols]\n",
    "test = test[all_cols]\n",
    "\n",
    "# Get the column integer indexes\n",
    "numeric_cols_indexes = [*range(len(numeric_cols))]\n",
    "count_cols_indexes = [*range(len(numeric_cols), len(numeric_cols + count_cols))]\n",
    "object_cols_indexes = [\n",
    "    *range(len(numeric_cols + count_cols), len(numeric_cols + count_cols + object_cols))\n",
    "]\n",
    "\n",
    "# Split X (former train) into test and train sets\n",
    "X_train, X_test, y_train, y_test = train_test_split(\n",
    "    X, y, test_size=0.25, shuffle=True, random_state=7\n",
    ")\n",
    "\n",
    "print(\"Final shape of X_train:\", X_train.shape)"
   ]
  },
  {
   "cell_type": "markdown",
   "id": "a49e58b5-eb9c-464e-833b-5b2a5260f3b8",
   "metadata": {},
   "source": [
    "## Model Estimation <a class=\"anchor\" id=\"model_estimation\"></a>\n",
    "In this section, I try out some regression models on the data. Later on I will stack them and check if that yields an improvement on the test predictions.\n",
    "\n",
    "### Lasso Model <a class=\"anchor\" id=\"lasso\"></a>\n",
    "Because of the high number of features in the data set that are potentially highly correlated (and indeed, they are), and because of the mostly linear relationship between the regressors and the response (visual inspection), I decide to use L1 linear regression as my base model.\n",
    "\n",
    "I arrange all preprocessing steps like imputation, target encoding and scaling as well as the final model estimation in a pipeline. This allows me to perform correct 5-fold cross validation without data leakage during preprocessing. The hereby defined data preprocessor will be re-used in later models.\n",
    "\n",
    "Because this is a jupyter notebook, I present shortened paramter lists used during cross validation.\n",
    "\n",
    "Note that the goal in the competition is to minimize the RMSE of the predictions of the log of the target 'SalePrice'."
   ]
  },
  {
   "cell_type": "code",
   "execution_count": 16,
   "id": "ac65e8e0",
   "metadata": {},
   "outputs": [],
   "source": [
    "###### Preprocessor ######\n",
    "# How to transform columns\n",
    "numeric_transformer = Pipeline(\n",
    "    [(\"imputer\", SimpleImputer(strategy=\"mean\")), (\"transformer\", PowerTransformer())]\n",
    ")\n",
    "\n",
    "count_transformer = Pipeline(\n",
    "    [\n",
    "        (\"imputer\", SimpleImputer(strategy=\"most_frequent\")),\n",
    "        (\"transformer\", PowerTransformer()),\n",
    "    ]\n",
    ")\n",
    "\n",
    "categorical_transformer = Pipeline(\n",
    "    [\n",
    "        (\"imputer\", SimpleImputer(strategy=\"most_frequent\")),\n",
    "        (\n",
    "            \"target_encoder\",\n",
    "            tools.tools.TargetEncoder(log=True),\n",
    "        ),  # my own target encoder\n",
    "        (\"scaler\", StandardScaler()),  # some issues with PowerTransformer here\n",
    "    ]\n",
    ")\n",
    "\n",
    "# Define the column transformer\n",
    "preprocessor = ColumnTransformer(\n",
    "    [\n",
    "        (\"numeric\", numeric_transformer, numeric_cols_indexes),\n",
    "        (\"count\", count_transformer, count_cols_indexes),\n",
    "        (\"categorical\", categorical_transformer, object_cols_indexes),\n",
    "    ]\n",
    ")"
   ]
  },
  {
   "cell_type": "code",
   "execution_count": null,
   "id": "14a0a9e9",
   "metadata": {},
   "outputs": [],
   "source": [
    "###### Fit Lasso Model ######\n",
    "# Init the lasso estimator\n",
    "lasso = Lasso()\n",
    "\n",
    "# Init the pipeline\n",
    "lasso_pipe = Pipeline([(\"preprocessor\", preprocessor), (\"lasso\", lasso)])\n",
    "\n",
    "# Init param grid\n",
    "# (Using some knowledge from earlier experiments\n",
    "# and LassoCV)\n",
    "params = {\n",
    "    \"lasso__alpha\": 0.0035 + 0.0001 * np.arange(11),\n",
    "    \"preprocessor__categorical__target_encoder__smoothing\": [None, 1, 10],\n",
    "}\n",
    "\n",
    "# Create KFold object for GridSearchCV\n",
    "kfold = KFold(shuffle=True, random_state=11)\n",
    "\n",
    "# Init and fit GridSearcher\n",
    "gridCV = GridSearchCV(\n",
    "    lasso_pipe,\n",
    "    param_grid=params,\n",
    "    cv=kfold,\n",
    "    scoring=\"neg_root_mean_squared_error\",\n",
    "    refit=True,\n",
    "    # n_jobs=-1,  # Gives tons of non-catchable warnings\n",
    ")\n",
    "\n",
    "with warnings.catch_warnings():\n",
    "    warnings.simplefilter(\"ignore\")\n",
    "    gridCV.fit(X_train, y_train)\n",
    "\n",
    "# Get the best estimator and parameters\n",
    "best_lasso_estimator = gridCV.best_estimator_\n",
    "best_lasso_params = gridCV.best_params_"
   ]
  },
  {
   "cell_type": "code",
   "execution_count": 54,
   "id": "d88ab198",
   "metadata": {},
   "outputs": [
    {
     "name": "stdout",
     "output_type": "stream",
     "text": [
      "Lasso: Optimized alpha:\n",
      "0.0043\n",
      "Lasso: Optimized smoothing of target encoder:\n",
      "None\n",
      "Lasso: Best CV RMSE (average):\n",
      "0.1273362254548617\n",
      "Lasso: Train RMSE:\n",
      "0.11600409124165909\n",
      "Lasso: Train R squared:\n",
      "0.8998295916371096\n",
      "Lasso: Test RMSE:\n",
      "0.10509026440411895\n",
      "Lasso: Test R squared:\n",
      "0.9197876356811714\n"
     ]
    },
    {
     "data": {
      "image/png": "[encoded data removed]",
      "text/plain": [
       "<Figure size 432x288 with 1 Axes>"
      ]
     },
     "metadata": {
      "needs_background": "light"
     },
     "output_type": "display_data"
    },
    {
     "data": {
      "image/png": "[encoded data removed]",
      "text/plain": [
       "<Figure size 432x288 with 1 Axes>"
      ]
     },
     "metadata": {
      "needs_background": "light"
     },
     "output_type": "display_data"
    }
   ],
   "source": [
    "# Helper function for printing scores and storing residuals\n",
    "def print_scores(estimator, estimator_name, grid_searcher=None, return_residuals=True):\n",
    "    if grid_searcher is None:\n",
    "        grid_searcher = gridCV\n",
    "        \n",
    "    train_preds = estimator.predict(X_train)\n",
    "    test_preds = estimator.predict(X_test)\n",
    "    \n",
    "    print(\"{}: Best CV RMSE (average):\".format(estimator_name))\n",
    "    print(-grid_searcher.best_score_)\n",
    "    print(\"{}: Train RMSE:\".format(estimator_name))\n",
    "    print(mean_squared_error(train_preds, y_train, squared=False))\n",
    "    print(\"{}: Train R squared:\".format(estimator_name))\n",
    "    print(r2_score(train_preds, y_train))\n",
    "    print(\"{}: Test RMSE:\".format(estimator_name))\n",
    "    print(mean_squared_error(test_preds, y_test, squared=False))\n",
    "    print(\"{}: Test R squared:\".format(estimator_name))\n",
    "    print(r2_score(test_preds, y_test))\n",
    "    \n",
    "    if return_residuals:\n",
    "        return train_preds - y_train, test_preds - y_test\n",
    "\n",
    "# Print lasso results\n",
    "print(\"Lasso: Optimized alpha:\")\n",
    "print(best_lasso_estimator[\"lasso\"].alpha)\n",
    "print(\"Lasso: Optimized smoothing of target encoder:\")\n",
    "print(best_lasso_params[\"preprocessor__categorical__target_encoder__smoothing\"])\n",
    "lasso_train_errors, lasso_test_errors = print_scores(best_lasso_estimator, \"Lasso\")\n",
    "\n",
    "# Plot lasso residuals\n",
    "plt.hist(lasso_train_errors, bins=20)\n",
    "plt.title(\"Histogram of train residuals\")\n",
    "plt.xlabel(\"Size of residual\")\n",
    "plt.ylabel(\"N\")\n",
    "plt.show()\n",
    "plt.hist(lasso_test_errors, bins=20)\n",
    "plt.title(\"Histogram of test residuals\")\n",
    "plt.xlabel(\"Size of residual\")\n",
    "plt.ylabel(\"N\")\n",
    "plt.show()"
   ]
  },
  {
   "cell_type": "code",
   "execution_count": 55,
   "id": "8ffdfef5-8964-4f18-b0b2-6ef1d6fc91c6",
   "metadata": {},
   "outputs": [],
   "source": [
    "###### Export Kaggle Submission ######\n",
    "# Export Kaggle test predictions for upload (.csv)\n",
    "# Define little helper function for that end\n",
    "def export_kaggle_submission(estimator, file_name):\n",
    "    kaggle_test_preds = estimator.predict(test)\n",
    "    kaggle_test_preds = np.exp(kaggle_test_preds)  # re-convert\n",
    "    kaggle_test_preds = pd.DataFrame(\n",
    "        kaggle_test_preds, index=test.index, columns=[\"SalePrice\"]\n",
    "    )\n",
    "    kaggle_test_preds.to_csv(file_name + \".csv\", index=True)\n",
    "\n",
    "\n",
    "export_kaggle_submission(best_lasso_estimator, \"submission_lasso\")"
   ]
  },
  {
   "cell_type": "markdown",
   "id": "5021c8c6",
   "metadata": {},
   "source": [
    "This model performs quite well with an R squared of over 0.9 on the test set. Additionally, the required regularization for the lasso model is low with an alpha around 0.004.\n",
    "\n",
    "On Kaggle this simple model scored with an RMSE of around 0.137 which is in line with my CV results. This landed me in the first third of the leaderboard when I made the submission.\n",
    "\n",
    "### XGBoost Regression <a class=\"anchor\" id=\"XGB\"></a>\n",
    "\n",
    "I'd like to try out XGBoost on the data, too, and see how well that estimator performs.\n",
    "\n",
    "Here, I would have liked to use the parameter *early_stopping_rounds* but that currently is not possible when using scikit-learn's GridSearchCV. I would have to expand some parts of XGBRegressor. (Well, maybe later...)"
   ]
  },
  {
   "cell_type": "code",
   "execution_count": null,
   "id": "09550d3e",
   "metadata": {},
   "outputs": [],
   "source": [
    "###### Fit XGBoost ######\n",
    "# Init the XGB Regresssor\n",
    "# (Use the scikit-learn api)\n",
    "xgb_regressor = XGBRegressor(\n",
    "    objective=\"reg:squarederror\",\n",
    "    booster=\"gbtree\",\n",
    "    n_estimators=300,\n",
    "    max_depth=7,\n",
    "    learning_rate=0.1,\n",
    "    grow_policy=\"lossguide\",\n",
    "    tree_method=\"hist\",\n",
    "    reg_lambda=0,\n",
    "    max_bin=256,\n",
    "    n_jobs=4,\n",
    ")\n",
    "\n",
    "# Use the same preprocessor as before\n",
    "xgb_pipe = Pipeline([(\"preprocessor\", preprocessor), (\"xgb_regressor\", xgb_regressor)])\n",
    "\n",
    "# Re-init the kfold object\n",
    "kfold = KFold(shuffle=True, random_state=11)\n",
    "\n",
    "# Init the param grid\n",
    "params = {\n",
    "    \"xgb_regressor__reg_alpha\": [0.01, 0.1],\n",
    "    \"xgb_regressor__subsample\": [0.5, 0.55],\n",
    "    \"xgb_regressor__colsample_bytree\": [0.5, 0.55],\n",
    "    \"preprocessor__categorical__target_encoder__smoothing\": [None, 15, 20],\n",
    "}\n",
    "\n",
    "# Init and run GridSearcher\n",
    "gridCV = GridSearchCV(\n",
    "    xgb_pipe,\n",
    "    param_grid=params,\n",
    "    cv=kfold,\n",
    "    scoring=\"neg_root_mean_squared_error\",\n",
    "    refit=True,\n",
    ")\n",
    "\n",
    "with warnings.catch_warnings():\n",
    "    warnings.simplefilter(\"ignore\")\n",
    "    gridCV.fit(X_train, y_train)\n",
    "\n",
    "# Get the best estimator and parameters\n",
    "best_xgb_estimator = gridCV.best_estimator_\n",
    "best_xgb_params = gridCV.best_params_"
   ]
  },
  {
   "cell_type": "code",
   "execution_count": null,
   "id": "31e87807",
   "metadata": {},
   "outputs": [],
   "source": [
    "# Print XGBoost results\n",
    "print(\"XGB: Optimized reg_alpha:\")\n",
    "print(best_xgb_params[\"xgb_regressor__reg_alpha\"])\n",
    "print(\"XGB: Optimized smoothing of target encoder\")\n",
    "print(best_xgb_params[\"preprocessor__categorical__target_encoder__smoothing\"])\n",
    "xgb_train_errors, xgb_test_errors = print_scores(best_xgb_estimator, \"XGB\")"
   ]
  },
  {
   "cell_type": "code",
   "execution_count": 39,
   "id": "193ea414",
   "metadata": {},
   "outputs": [
    {
     "name": "stdout",
     "output_type": "stream",
     "text": [
      "XGB: Optimized reg_alpha:\n",
      "0.1\n",
      "XGB: Optimized smoothing of target encoder\n",
      "None\n",
      "XGB: Best CV RMSE (average):\n",
      "0.1254053068478542\n",
      "XGB: Train RMSE:\n",
      "0.010877610168526354\n",
      "XGB: Train R squared:\n",
      "0.999222097341337\n",
      "XGB: Test RMSE:\n",
      "0.10648405565023947\n",
      "XGB: Test R squared:\n",
      "0.9252781082956103\n"
     ]
    }
   ],
   "source": [
    "# Export Kaggle test predictions for upload (.csv)\n",
    "export_kaggle_submission(best_xgb_estimator, \"submission_xgb\")"
   ]
  },
  {
   "cell_type": "markdown",
   "id": "ed1c0b4e",
   "metadata": {},
   "source": [
    "The XGBRegressor performs comparatively as well as the Lasso model while it clearly overfits on the train data - which is normal for boosting. This is also confirmed by the respective Kaggle submission, which got me a higher RMSE than the Lasso estimator.\n",
    "\n",
    "Mostly I was interested in seeing if XGBoost's base trees can exploit any non-linear relationships in the data. However, from my submission it looks like we cannot trump a linear model by boosting trees.\n",
    "\n",
    "### AdaBoost Regression <a class=\"anchor\" id=\"AdaBoost\"></a>\n",
    "\n",
    "In comparison to XGBoost, let's also try out sklearn's AdaBoostRegressor."
   ]
  },
  {
   "cell_type": "code",
   "execution_count": 89,
   "id": "3454011b",
   "metadata": {},
   "outputs": [],
   "source": [
    "###### Fit AdaBoost ######\n",
    "# Init the base estimator\n",
    "tree_regressor = DecisionTreeRegressor(max_depth=10)\n",
    "\n",
    "# Init the AdaBoost regressor\n",
    "ada = AdaBoostRegressor(\n",
    "    base_estimator=tree_regressor,\n",
    "    learning_rate=0.001,\n",
    "    loss='square',\n",
    "    random_state=10,\n",
    ")\n",
    "\n",
    "# Re-init the kfold object\n",
    "kfold = KFold(shuffle=True, random_state=11)\n",
    "\n",
    "# Re-use preprocessor for pipeline\n",
    "ada_pipe = Pipeline([(\"preprocessor\", preprocessor), (\"ada\", ada)])\n",
    "\n",
    "# Init param grid\n",
    "params = {\n",
    "    \"ada__n_estimators\": [500, 750],\n",
    "    \"preprocessor__categorical__target_encoder__smoothing\": [None, 2, 5],\n",
    "}\n",
    "\n",
    "# Init and run GridSearcher\n",
    "gridCV = GridSearchCV(\n",
    "    ada_pipe,\n",
    "    param_grid=params,\n",
    "    cv=kfold,\n",
    "    scoring=\"neg_root_mean_squared_error\",\n",
    "    refit=True,\n",
    "    # n_jobs=-1,  # Gives tons of non-catchable warnings\n",
    ")\n",
    "\n",
    "with warnings.catch_warnings():\n",
    "    warnings.simplefilter(\"ignore\")\n",
    "    gridCV.fit(X_train, y_train)\n",
    "\n",
    "# Get the best estimator and parameters\n",
    "best_ada_estimator = gridCV.best_estimator_\n",
    "best_ada_params = gridCV.best_params_"
   ]
  },
  {
   "cell_type": "code",
   "execution_count": 90,
   "id": "c20a4003",
   "metadata": {
    "scrolled": true
   },
   "outputs": [
    {
     "name": "stdout",
     "output_type": "stream",
     "text": [
      "AdaBoost: Optimized n_estimators:\n",
      "750\n",
      "AdaBoost: Optimized smoothing of target encoder\n",
      "None\n",
      "AdaBoost: Best CV RMSE (average):\n",
      "0.1503165054431022\n",
      "AdaBoost: Train RMSE:\n",
      "0.048481808661428455\n",
      "AdaBoost: Train R squared:\n",
      "0.9838665515479543\n",
      "AdaBoost: Test RMSE:\n",
      "0.14764846827054873\n",
      "AdaBoost: Test R squared:\n",
      "0.819225056606376\n"
     ]
    }
   ],
   "source": [
    "# Print AdaBoost results\n",
    "print(\"AdaBoost: Optimized n_estimators:\")\n",
    "print(best_ada_params[\"ada__n_estimators\"])\n",
    "print(\"AdaBoost: Optimized smoothing of target encoder\")\n",
    "print(best_ada_params[\"preprocessor__categorical__target_encoder__smoothing\"])\n",
    "ada_train_errors, ada_test_errors = print_scores(best_ada_estimator, 'AdaBoost')"
   ]
  },
  {
   "cell_type": "markdown",
   "id": "5161b59c",
   "metadata": {},
   "source": [
    "AdaBoost performs decently, but is not able to reach XGBoost's results."
   ]
  },
  {
   "cell_type": "markdown",
   "id": "07d77056-b07c-49d0-8ed6-7ecdc21533be",
   "metadata": {},
   "source": [
    "### Linear Support Vector Regressor <a class=\"anchor\" id=\"SVR\"></a>\n",
    "\n",
    "Another linear model. Using a polynomial kernel (and RBF kernel) earned me a very bad RMSE on Kaggle. That is why I decided to stick with a linear kernel. Interestingly, the non-linear kernels showed a rather good performance on the local test data."
   ]
  },
  {
   "cell_type": "code",
   "execution_count": null,
   "id": "57e8b71c",
   "metadata": {},
   "outputs": [],
   "source": [
    "###### Fit Linear SVR ######\n",
    "# Init the linear support vector regressor\n",
    "svr = LinearSVR(\n",
    "    tol=1e-4, dual=False, loss=\"squared_epsilon_insensitive\", random_state=7\n",
    ")\n",
    "\n",
    "# Re-use preprocessor for pipeline\n",
    "svr_pipe = Pipeline([(\"preprocessor\", preprocessor), (\"svr\", svr)])\n",
    "\n",
    "# Re-init the kfold object\n",
    "kfold = KFold(shuffle=True, random_state=11)\n",
    "\n",
    "# Init the param grid\n",
    "params = {\n",
    "    \"svr__C\": [4, 5, 6],  # lower values mean more regularization\n",
    "    \"svr__epsilon\": [0, 1],\n",
    "    \"preprocessor__categorical__target_encoder__smoothing\": [None, 1, 10],\n",
    "}\n",
    "\n",
    "# Init and run GridSearcher\n",
    "gridCV = GridSearchCV(\n",
    "    svr_pipe,\n",
    "    param_grid=params,\n",
    "    cv=kfold,\n",
    "    scoring=\"neg_root_mean_squared_error\",\n",
    "    refit=True,\n",
    "    # n_jobs=-1,  # Gives tons of non-catchable warnings\n",
    ")\n",
    "\n",
    "with warnings.catch_warnings():\n",
    "    warnings.simplefilter(\"ignore\")\n",
    "    gridCV.fit(X_train, y_train)\n",
    "\n",
    "# Get the best estimator and parameters\n",
    "best_svr_estimator = gridCV.best_estimator_\n",
    "best_svr_params = gridCV.best_params_"
   ]
  },
  {
   "cell_type": "code",
   "execution_count": 40,
   "id": "e2e67c80",
   "metadata": {},
   "outputs": [
    {
     "name": "stdout",
     "output_type": "stream",
     "text": [
      "SVR: Optimized C:\n",
      "5\n",
      "SVR: Optimized epsilon:\n",
      "0\n",
      "SVR: Optimized smoothing of target encoder:\n",
      "None\n",
      "SVR: Best CV RMSE (average):\n",
      "0.1305927396589115\n",
      "SVR: Train RMSE:\n",
      "0.11127389529435693\n",
      "SVR: Train R squared:\n",
      "0.9122630810969785\n",
      "SVR: Test RMSE:\n",
      "0.10693045301344119\n",
      "SVR: Test R squared:\n",
      "0.9219247890446839\n"
     ]
    }
   ],
   "source": [
    "# Print SVR results\n",
    "print(\"SVR: Optimized C:\")\n",
    "print(best_svr_params[\"svr__C\"])\n",
    "print(\"SVR: Optimized epsilon:\")\n",
    "print(best_svr_params[\"svr__epsilon\"])\n",
    "print(\"SVR: Optimized smoothing of target encoder:\")\n",
    "print(best_svr_params[\"preprocessor__categorical__target_encoder__smoothing\"])\n",
    "svr_train_errors, svr_test_errors = print_scores(best_svr_estimator, \"SVR\")"
   ]
  },
  {
   "cell_type": "markdown",
   "id": "7809c849",
   "metadata": {},
   "source": [
    "The linear support vector regressor also shows a similar performance than the Lasso model which is not surprising as, well, both models are linear.\n",
    "\n",
    "### Random Forest Regressor <a class=\"anchor\" id=\"forest\"></a>"
   ]
  },
  {
   "cell_type": "code",
   "execution_count": null,
   "id": "679bb93e",
   "metadata": {},
   "outputs": [],
   "source": [
    "###### Random Forest Regressor ######\n",
    "# Init randdom forest regressor\n",
    "forest = RandomForestRegressor(\n",
    "    n_estimators=300,\n",
    "    criterion=\"squared_error\",\n",
    "    n_jobs=4,\n",
    "    random_state=7,\n",
    "    bootstrap=True,\n",
    ")\n",
    "\n",
    "# Re-use preprocessor for pipeline\n",
    "forest_pipe = Pipeline([(\"preprocessor\", preprocessor), (\"forest\", forest)])\n",
    "\n",
    "# Re-init the kfold object\n",
    "kfold = KFold(shuffle=True, random_state=11)\n",
    "\n",
    "# Init the param grid\n",
    "params = {\n",
    "    \"forest__min_samples_leaf\": [1, 2, 3, 4],\n",
    "    \"preprocessor__categorical__target_encoder__smoothing\": [None, 1, 10],\n",
    "}\n",
    "\n",
    "# Init and run GridSearcher\n",
    "gridCV = GridSearchCV(\n",
    "    forest_pipe,\n",
    "    param_grid=params,\n",
    "    cv=kfold,\n",
    "    scoring=\"neg_root_mean_squared_error\",\n",
    "    refit=True,\n",
    "    # n_jobs=-1,  # Gives tons of warnings\n",
    ")\n",
    "\n",
    "with warnings.catch_warnings():\n",
    "    warnings.simplefilter(\"ignore\")\n",
    "    gridCV.fit(X_train, y_train)\n",
    "\n",
    "# Get best estimator and parameters\n",
    "best_forest_estimator = gridCV.best_estimator_\n",
    "best_forest_params = gridCV.best_params_"
   ]
  },
  {
   "cell_type": "code",
   "execution_count": 41,
   "id": "3dae7a20",
   "metadata": {},
   "outputs": [
    {
     "name": "stdout",
     "output_type": "stream",
     "text": [
      "Forest: Optimized min_samples_leaf:\n",
      "2\n",
      "Forest: Optimized smoothing of target encoder:\n",
      "None\n",
      "Forest: Best CV RMSE (average):\n",
      "0.140951764404815\n",
      "Forest: Train RMSE:\n",
      "0.061926617872167924\n",
      "Forest: Train R squared:\n",
      "0.9716321888568626\n",
      "Forest: Test RMSE:\n",
      "0.12778745454061036\n",
      "Forest: Test R squared:\n",
      "0.8742839838948355\n"
     ]
    }
   ],
   "source": [
    "# Print forest results\n",
    "print(\"Forest: Optimized min_samples_leaf:\")\n",
    "print(best_forest_params[\"forest__min_samples_leaf\"])\n",
    "print(\"Forest: Optimized smoothing of target encoder:\")\n",
    "print(best_forest_params[\"preprocessor__categorical__target_encoder__smoothing\"])\n",
    "forest_train_errors, forest_test_errors = print_scores(best_forest_estimator, 'Forest')"
   ]
  },
  {
   "cell_type": "markdown",
   "id": "2071f20a",
   "metadata": {},
   "source": [
    "Like the XGBoost regressor, the random forest regressor overfits on the train set. Boosting surely leads to better estimators than just bagging."
   ]
  },
  {
   "cell_type": "markdown",
   "id": "0873a510",
   "metadata": {},
   "source": [
    "### K Neighbors Regressor <a class=\"anchor\" id=\"KNR\"></a>"
   ]
  },
  {
   "cell_type": "code",
   "execution_count": null,
   "id": "b01646fa",
   "metadata": {},
   "outputs": [],
   "source": [
    "###### K Neighbors Regressor ######\n",
    "# Init k nearest neighbors regressor\n",
    "knr = KNeighborsRegressor()\n",
    "\n",
    "# Re-use preprocessor for pipeline\n",
    "knr_pipe = Pipeline([(\"preprocessor\", preprocessor), (\"knr\", knr)])\n",
    "\n",
    "# Re-init the kfold object\n",
    "kfold = KFold(shuffle=True, random_state=11)\n",
    "\n",
    "# Init param grid\n",
    "params = {\n",
    "    \"knr__n_neighbors\": np.arange(10, 16, 1),\n",
    "    \"knr__weights\": [\"uniform\", \"distance\"],\n",
    "    \"preprocessor__categorical__target_encoder__smoothing\": [None, 1, 10],\n",
    "}\n",
    "\n",
    "# Init and run GridSearcher\n",
    "gridCV = GridSearchCV(\n",
    "    knr_pipe,\n",
    "    param_grid=params,\n",
    "    cv=kfold,\n",
    "    scoring=\"neg_root_mean_squared_error\",\n",
    "    refit=True,\n",
    "    # n_jobs=-1,  # Gives tons of warnings\n",
    ")\n",
    "\n",
    "with warnings.catch_warnings():\n",
    "    warnings.simplefilter(\"ignore\")\n",
    "    gridCV.fit(X_train, y_train)\n",
    "\n",
    "# Get the best estimator and parameters\n",
    "best_knr_estimator = gridCV.best_estimator_\n",
    "best_knr_params = gridCV.best_params_"
   ]
  },
  {
   "cell_type": "code",
   "execution_count": 42,
   "id": "f7aa9be8",
   "metadata": {},
   "outputs": [
    {
     "name": "stdout",
     "output_type": "stream",
     "text": [
      "KNR: Optimized n_neighbors:\n",
      "14\n",
      "KNR: Optimized smoothing of target encoder\n",
      "1\n",
      "KNR: Best CV RMSE (average):\n",
      "0.18082453916983782\n",
      "KNR: Train RMSE:\n",
      "3.358137563841092e-08\n",
      "KNR: Train R squared:\n",
      "0.9999999999999927\n",
      "KNR: Test RMSE:\n",
      "0.16736566360771177\n",
      "KNR: Test R squared:\n",
      "0.7266345707993682\n"
     ]
    }
   ],
   "source": [
    "# Print knr results\n",
    "print(\"KNR: Optimized n_neighbors:\")\n",
    "print(best_knr_params[\"knr__n_neighbors\"])\n",
    "print(\"KNR: Optimized smoothing of target encoder\")\n",
    "print(best_knr_params[\"preprocessor__categorical__target_encoder__smoothing\"])\n",
    "knr_train_errors, knr_test_errors = print_scores(best_knr_estimator, \"KNR\")"
   ]
  },
  {
   "cell_type": "markdown",
   "id": "e0966c67",
   "metadata": {},
   "source": [
    "The k nearest neighbors model is the one that performs the worst on the test set while overfitting the most.\n",
    "\n",
    "## Model Stacking <a class=\"anchor\" id=\"model_stacking\"></a>\n",
    "\n",
    "Analysis of the test residuals reveals the following:\n",
    "\n",
    "(a) Besides the nearest neighbors model, all esimators' residuals seem to have a mean of zero (according to the standard one sided t-test at the 5% level).\n",
    "\n",
    "(c) While the histograms might suggest that the residuals are normally distributed, the Shapiro-Wilk test clearly rejects the hypothesis of normally distributed residuals for all models.\n",
    "\n",
    "(b) The rediduals accross the different estimators seem to be strongly correlated but not perfectly."
   ]
  },
  {
   "cell_type": "code",
   "execution_count": 43,
   "id": "137686ba",
   "metadata": {},
   "outputs": [
    {
     "name": "stdout",
     "output_type": "stream",
     "text": [
      "Lasso: P-value of t-test for test residuals:\n",
      "0.44374931734796097\n",
      "Lasso: P-value of Shapiro-Wilk test for test residuals\n",
      "2.644559771169952e-08\n",
      "\n",
      "\n",
      "XGB: P-value of t-test for test residuals:\n",
      "0.22981676360148673\n",
      "XGB: P-value of Shapiro-Wilk test for test residuals\n",
      "1.3474852494255174e-05\n",
      "\n",
      "\n",
      "SVR: P-value of t-test for test residuals:\n",
      "0.4231755327785067\n",
      "SVR: P-value of Shapiro-Wilk test for test residuals\n",
      "1.1996934290436911e-07\n",
      "\n",
      "\n",
      "Forest: P-value of t-test for test residuals:\n",
      "0.18980322976857117\n",
      "Forest: P-value of Shapiro-Wilk test for test residuals\n",
      "2.7622975087848722e-11\n",
      "\n",
      "\n",
      "KNR: P-value of t-test for test residuals:\n",
      "0.04217787507782722\n",
      "KNR: P-value of Shapiro-Wilk test for test residuals\n",
      "8.711099896974162e-11\n",
      "\n",
      "\n",
      "Pairplot of test residuals:\n"
     ]
    },
    {
     "data": {
      "image/png": "[encoded data removed]",
      "text/plain": [
       "<Figure size 648x648 with 30 Axes>"
      ]
     },
     "metadata": {
      "needs_background": "light"
     },
     "output_type": "display_data"
    },
    {
     "data": {
      "text/html": [
       "<div>\n",
       "<style scoped>\n",
       "    .dataframe tbody tr th:only-of-type {\n",
       "        vertical-align: middle;\n",
       "    }\n",
       "\n",
       "    .dataframe tbody tr th {\n",
       "        vertical-align: top;\n",
       "    }\n",
       "\n",
       "    .dataframe thead th {\n",
       "        text-align: right;\n",
       "    }\n",
       "</style>\n",
       "<table border=\"1\" class=\"dataframe\">\n",
       "  <thead>\n",
       "    <tr style=\"text-align: right;\">\n",
       "      <th></th>\n",
       "      <th>Lasso</th>\n",
       "      <th>XGB</th>\n",
       "      <th>SVR</th>\n",
       "      <th>Forest</th>\n",
       "      <th>KNR</th>\n",
       "    </tr>\n",
       "  </thead>\n",
       "  <tbody>\n",
       "    <tr>\n",
       "      <th>Lasso</th>\n",
       "      <td>1.0</td>\n",
       "      <td>0.76371</td>\n",
       "      <td>0.945891</td>\n",
       "      <td>0.809947</td>\n",
       "      <td>0.686770</td>\n",
       "    </tr>\n",
       "    <tr>\n",
       "      <th>XGB</th>\n",
       "      <td>NaN</td>\n",
       "      <td>1.00000</td>\n",
       "      <td>0.753868</td>\n",
       "      <td>0.806829</td>\n",
       "      <td>0.551767</td>\n",
       "    </tr>\n",
       "    <tr>\n",
       "      <th>SVR</th>\n",
       "      <td>NaN</td>\n",
       "      <td>NaN</td>\n",
       "      <td>1.000000</td>\n",
       "      <td>0.735179</td>\n",
       "      <td>0.602355</td>\n",
       "    </tr>\n",
       "    <tr>\n",
       "      <th>Forest</th>\n",
       "      <td>NaN</td>\n",
       "      <td>NaN</td>\n",
       "      <td>NaN</td>\n",
       "      <td>1.000000</td>\n",
       "      <td>0.654202</td>\n",
       "    </tr>\n",
       "    <tr>\n",
       "      <th>KNR</th>\n",
       "      <td>NaN</td>\n",
       "      <td>NaN</td>\n",
       "      <td>NaN</td>\n",
       "      <td>NaN</td>\n",
       "      <td>1.000000</td>\n",
       "    </tr>\n",
       "  </tbody>\n",
       "</table>\n",
       "</div>"
      ],
      "text/plain": [
       "        Lasso      XGB       SVR    Forest       KNR\n",
       "Lasso     1.0  0.76371  0.945891  0.809947  0.686770\n",
       "XGB       NaN  1.00000  0.753868  0.806829  0.551767\n",
       "SVR       NaN      NaN  1.000000  0.735179  0.602355\n",
       "Forest    NaN      NaN       NaN  1.000000  0.654202\n",
       "KNR       NaN      NaN       NaN       NaN  1.000000"
      ]
     },
     "metadata": {},
     "output_type": "display_data"
    }
   ],
   "source": [
    "# Define a simple t-tester\n",
    "def one_sample_t_test(x, h0=0, two_sided=False):\n",
    "    std_x = np.std(x)\n",
    "    mean_x = np.mean(x)\n",
    "    t_stat = np.sqrt(len(x)) * (mean_x - h0)/std_x\n",
    "    p_value = stats.t.cdf(t_stat, df=len(x)-1)\n",
    "    p_value = min([p_value, 1 - p_value])\n",
    "    if two_sided:\n",
    "        p_value = 2*p_value\n",
    "    return p_value\n",
    "\n",
    "# Print the t-test results for the test errors\n",
    "# given that H0: mean(e) = 0\n",
    "model_names = ['Lasso', 'XGB', 'SVR', 'Forest', 'KNR']\n",
    "test_errors = [lasso_test_errors, xgb_test_errors, svr_test_errors, forest_test_errors, knr_test_errors]\n",
    "\n",
    "for name, errors in zip(model_names, test_errors):\n",
    "    _, shapiro_p_value = stats.shapiro(errors)\n",
    "    print(\"{}: P-value of t-test for test residuals:\".format(name))\n",
    "    print(one_sample_t_test(errors))\n",
    "    print(\"{}: P-value of Shapiro-Wilk test for test residuals\".format(name))\n",
    "    print(shapiro_p_value)\n",
    "    print(\"\\n\")\n",
    "    \n",
    "# Collect test errors in a data frame\n",
    "test_errors = pd.concat(test_errors, axis=1)\n",
    "test_errors.columns = model_names\n",
    "\n",
    "# Show a pair plot of the residuals\n",
    "print(\"Pairplot of test residuals:\")\n",
    "ax = sns.pairplot(data=test_errors, height=1.8)\n",
    "plt.show()\n",
    "\n",
    "# Print the correlation coefficients\n",
    "test_errors_corr = test_errors.corr().round(2)\n",
    "for i in range(len(test_errors_corr)):\n",
    "    for j in range(0, i):\n",
    "        test_errors_corr.iloc[i, j] = None\n",
    "display(test_errors_corr)"
   ]
  },
  {
   "cell_type": "markdown",
   "id": "701fc1eb",
   "metadata": {},
   "source": [
    "Observation (a) shows us that the four best performing estimators seem to produce unbiased or only slightly biased predictions.\n",
    "\n",
    "Observation (b) might be caused by structurally non-normal data or by outliers that I have missed out in my analysis. If I apply the Shapiro-Wilk test on the labels it will also reject normality. Hence, the first explanation is likely to be true.\n",
    "\n",
    "Observation (c) suggests that model stacking might bring some improvements, but not very significant ones.\n",
    "\n",
    "As an exercise, I will stack my five estimators in the following using ridge regression as the meta model.\n",
    "\n",
    "My approach follows [this tutorial](https://mlfromscratch.com/model-stacking-explained/) where the hyperparameter-tuned estimators get re-trained on train-CV-slices of the train data set in order to make predictions on the smaller test-CV-slices. These predictions then get used as features for the meta model. \n",
    "\n",
    "For making predictions on the hold-out data (or any other prediction data), my model stacker takes the average of the predictions of the CV trained models.\n",
    "\n",
    "I try out ridge regression as the meta model. This follows scikit-learn's StackingRegressor's default."
   ]
  },
  {
   "cell_type": "code",
   "execution_count": 44,
   "id": "0a9e88a5",
   "metadata": {},
   "outputs": [
    {
     "name": "stdout",
     "output_type": "stream",
     "text": [
      "Stacked models: Train RMSE:\n",
      "0.07594001201056114\n",
      "Stacked models: Train R squared:\n",
      "0.9597356887101592\n",
      "Stacked models: Test RMSE:\n",
      "0.09891566791727997\n",
      "Stacked models: Test R squared:\n",
      "0.9334739980298081\n"
     ]
    }
   ],
   "source": [
    "# Collect the models\n",
    "models = [('Lasso', best_lasso_estimator),\n",
    "          ('XGB', best_xgb_estimator),\n",
    "          ('SVR', best_svr_estimator),\n",
    "          ('Forest', best_forest_estimator),\n",
    "          ('KNR', best_knr_estimator)]\n",
    "\n",
    "# Define meta model\n",
    "meta_ridge_cv = RidgeCV()\n",
    "\n",
    "# Init the model stacker\n",
    "model_stacker = tools.tools.ModelStacker(\n",
    "    models,\n",
    "    meta_model=meta_ridge_cv,\n",
    "    n_splits=5,\n",
    "    shuffle=True,\n",
    "    random_state=10,\n",
    "    poly_degree=None,\n",
    "    passthrough=False\n",
    ")\n",
    "\n",
    "# Fit the train data\n",
    "with warnings.catch_warnings():\n",
    "    warnings.simplefilter(\"ignore\")\n",
    "    model_stacker.fit(X_train, y_train)\n",
    "\n",
    "# Make predictions on the train and test data\n",
    "train_preds = model_stacker.predict(X_train)\n",
    "test_preds = model_stacker.predict(X_test)\n",
    "\n",
    "# Print scores\n",
    "print(\"Stacked models: Train RMSE:\")\n",
    "print(mean_squared_error(train_preds, y_train, squared=False))\n",
    "print(\"Stacked models: Train R squared:\")\n",
    "print(r2_score(train_preds, y_train))\n",
    "print(\"Stacked models: Test RMSE:\")\n",
    "print(mean_squared_error(test_preds, y_test, squared=False))\n",
    "print(\"Stacked models: Test R squared:\")\n",
    "print(r2_score(test_preds, y_test))\n",
    "\n",
    "export_kaggle_submission(model_stacker, \"submission_model_stacker\")"
   ]
  },
  {
   "cell_type": "markdown",
   "id": "00ca434c",
   "metadata": {},
   "source": [
    "Model stacking improved the predictions slightly on the local test set and lowered my RMSE on the Kaggle test set to 0.128. An RMSE on the lokal test set of around 0.1 is fairly decent. However, it is possible to do even better as the leaderboard shows."
   ]
  },
  {
   "cell_type": "markdown",
   "id": "5207dfb7",
   "metadata": {},
   "source": [
    "## Experimental: Regression using a Neuronal Network <a class=\"anchor\" id=\"neuronal_network\"></a>\n",
    "\n",
    "As I have made good experiences with neuronal networks in other contexts, I also want to assess their power in the current environment.\n",
    "\n",
    "For fitting a NN I do not intend to do any cross validation and hyperparameter tuning. Hence, I apply all final preprocessing steps beforehand.\n",
    "\n",
    "The architecture of the network is still not final.\n",
    "\n",
    "As I want to include a validation set during fitting, I redo the train data splitting from above:"
   ]
  },
  {
   "cell_type": "code",
   "execution_count": 18,
   "id": "0f63b32c",
   "metadata": {},
   "outputs": [],
   "source": [
    "import tensorflow as tf\n",
    "from tensorflow import keras"
   ]
  },
  {
   "cell_type": "code",
   "execution_count": 23,
   "id": "d51fbec8",
   "metadata": {},
   "outputs": [],
   "source": [
    "X_train, X_test, y_train, y_test = train_test_split(\n",
    "    X, y, test_size=200, shuffle=True, random_state=7\n",
    ")\n",
    "X_train, X_val, y_train, y_val = train_test_split(\n",
    "    X_train, y_train, test_size=200, shuffle=False\n",
    ")\n",
    "\n",
    "# Apply preprocessing\n",
    "with warnings.catch_warnings():\n",
    "    warnings.simplefilter(\"ignore\")\n",
    "    X_train = preprocessor.fit_transform(X_train, y_train)\n",
    "    X_test = preprocessor.transform(X_test)\n",
    "    X_val = preprocessor.transform(X_val)"
   ]
  },
  {
   "cell_type": "code",
   "execution_count": 24,
   "id": "8a207776",
   "metadata": {},
   "outputs": [],
   "source": [
    "def generate_dataset(data, labels, shuffle=False, batch_size=128, repeat=True):\n",
    "    data, labels = data.copy(), labels.copy()\n",
    "    ds = tf.data.Dataset.from_tensor_slices((data, labels))\n",
    "    if shuffle:\n",
    "        ds = ds.shuffle(buffer_size=len(data))\n",
    "    if repeat:\n",
    "        ds = ds.repeat()\n",
    "    if batch_size is not None:\n",
    "        ds = ds.batch(batch_size)\n",
    "    ds = ds.prefetch(tf.data.AUTOTUNE)\n",
    "    return ds\n",
    "\n",
    "\n",
    "train_ds = generate_dataset(X_train, y_train)\n",
    "test_ds = generate_dataset(X_test, y_test, batch_size=200)\n",
    "val_ds = generate_dataset(X_val, y_val, batch_size=200)"
   ]
  },
  {
   "cell_type": "code",
   "execution_count": 68,
   "id": "2a8df30b",
   "metadata": {
    "scrolled": true
   },
   "outputs": [
    {
     "name": "stdout",
     "output_type": "stream",
     "text": [
      "Model: \"sequential_14\"\n",
      "_________________________________________________________________\n",
      " Layer (type)                Output Shape              Param #   \n",
      "=================================================================\n",
      " dense_39 (Dense)            (None, 64)                5184      \n",
      "                                                                 \n",
      " dense_40 (Dense)            (None, 32)                2080      \n",
      "                                                                 \n",
      " dense_41 (Dense)            (None, 1)                 33        \n",
      "                                                                 \n",
      "=================================================================\n",
      "Total params: 7,297\n",
      "Trainable params: 7,297\n",
      "Non-trainable params: 0\n",
      "_________________________________________________________________\n"
     ]
    }
   ],
   "source": [
    "# Built the network\n",
    "model = keras.Sequential([\n",
    "    keras.layers.Input(shape=(X_train.shape[1],), dtype='float64'),\n",
    "    keras.layers.Dense(64, activation='relu'),\n",
    "    keras.layers.Dense(32, activation='relu'),\n",
    "    keras.layers.Dense(1)\n",
    "])\n",
    "\n",
    "model.compile(\n",
    "    optimizer='adam',\n",
    "    loss=keras.losses.MeanSquaredError(),\n",
    "    metrics=[tf.keras.metrics.RootMeanSquaredError()]\n",
    ")\n",
    "\n",
    "model.summary()"
   ]
  },
  {
   "cell_type": "code",
   "execution_count": 69,
   "id": "f8d4cb40",
   "metadata": {},
   "outputs": [
    {
     "name": "stdout",
     "output_type": "stream",
     "text": [
      "Epoch 1/20\n",
      "2048/2048 [==============================] - 6s 3ms/step - loss: 2.1639 - root_mean_squared_error: 1.4710 - val_loss: 0.6968 - val_root_mean_squared_error: 0.8347\n",
      "Epoch 2/20\n",
      "2048/2048 [==============================] - 5s 2ms/step - loss: 0.0069 - root_mean_squared_error: 0.0828 - val_loss: 0.6966 - val_root_mean_squared_error: 0.8346\n",
      "Epoch 3/20\n",
      "2048/2048 [==============================] - 5s 2ms/step - loss: 0.0108 - root_mean_squared_error: 0.1037 - val_loss: 0.7100 - val_root_mean_squared_error: 0.8426\n",
      "Epoch 4/20\n",
      "2048/2048 [==============================] - 5s 3ms/step - loss: 0.0107 - root_mean_squared_error: 0.1035 - val_loss: 0.6711 - val_root_mean_squared_error: 0.8192\n",
      "Epoch 5/20\n",
      "2048/2048 [==============================] - 5s 3ms/step - loss: 0.0100 - root_mean_squared_error: 0.1002 - val_loss: 0.6465 - val_root_mean_squared_error: 0.8041\n",
      "Epoch 6/20\n",
      "2048/2048 [==============================] - 5s 2ms/step - loss: 0.0106 - root_mean_squared_error: 0.1030 - val_loss: 0.6311 - val_root_mean_squared_error: 0.7944\n",
      "Epoch 7/20\n",
      "2048/2048 [==============================] - 5s 3ms/step - loss: 0.0097 - root_mean_squared_error: 0.0983 - val_loss: 0.6162 - val_root_mean_squared_error: 0.7850\n",
      "Epoch 8/20\n",
      "2048/2048 [==============================] - 5s 3ms/step - loss: 0.0092 - root_mean_squared_error: 0.0959 - val_loss: 0.5906 - val_root_mean_squared_error: 0.7685\n",
      "Epoch 9/20\n",
      "2048/2048 [==============================] - 6s 3ms/step - loss: 0.0093 - root_mean_squared_error: 0.0963 - val_loss: 0.5939 - val_root_mean_squared_error: 0.7707\n",
      "Epoch 10/20\n",
      "2048/2048 [==============================] - 7s 4ms/step - loss: 0.0081 - root_mean_squared_error: 0.0898 - val_loss: 0.5752 - val_root_mean_squared_error: 0.7584\n",
      "Epoch 11/20\n",
      "2048/2048 [==============================] - 7s 3ms/step - loss: 0.0078 - root_mean_squared_error: 0.0883 - val_loss: 0.5856 - val_root_mean_squared_error: 0.7652\n",
      "Epoch 12/20\n",
      "2048/2048 [==============================] - 5s 3ms/step - loss: 0.0084 - root_mean_squared_error: 0.0919 - val_loss: 0.5731 - val_root_mean_squared_error: 0.7571\n",
      "Epoch 13/20\n",
      "2048/2048 [==============================] - 6s 3ms/step - loss: 0.0075 - root_mean_squared_error: 0.0866 - val_loss: 0.5862 - val_root_mean_squared_error: 0.7656\n",
      "Epoch 14/20\n",
      "2048/2048 [==============================] - 5s 2ms/step - loss: 0.0075 - root_mean_squared_error: 0.0864 - val_loss: 0.5685 - val_root_mean_squared_error: 0.7540\n",
      "Epoch 15/20\n",
      "2048/2048 [==============================] - 5s 2ms/step - loss: 0.0073 - root_mean_squared_error: 0.0857 - val_loss: 0.5596 - val_root_mean_squared_error: 0.7481\n",
      "Epoch 16/20\n",
      "2048/2048 [==============================] - 6s 3ms/step - loss: 0.0068 - root_mean_squared_error: 0.0824 - val_loss: 0.5589 - val_root_mean_squared_error: 0.7476\n",
      "Epoch 17/20\n",
      "2048/2048 [==============================] - 5s 2ms/step - loss: 0.0070 - root_mean_squared_error: 0.0835 - val_loss: 0.5550 - val_root_mean_squared_error: 0.7450\n",
      "Epoch 18/20\n",
      "2048/2048 [==============================] - 5s 2ms/step - loss: 0.0067 - root_mean_squared_error: 0.0820 - val_loss: 0.5500 - val_root_mean_squared_error: 0.7416\n",
      "Epoch 19/20\n",
      "2048/2048 [==============================] - 5s 3ms/step - loss: 0.0064 - root_mean_squared_error: 0.0801 - val_loss: 0.5404 - val_root_mean_squared_error: 0.7351\n",
      "Epoch 20/20\n",
      "2048/2048 [==============================] - 5s 2ms/step - loss: 0.0064 - root_mean_squared_error: 0.0800 - val_loss: 0.5429 - val_root_mean_squared_error: 0.7369\n"
     ]
    }
   ],
   "source": [
    "# Train the model\n",
    "early_stopping_callback = keras.callbacks.EarlyStopping(\n",
    "    monitor=\"val_loss\",\n",
    "    patience=3,\n",
    "    restore_best_weights=True,\n",
    ")\n",
    "\n",
    "history = model.fit(\n",
    "    x=train_ds,\n",
    "    epochs=20,\n",
    "    steps_per_epoch=2048, # 256 times the whole data\n",
    "    validation_data=val_ds,\n",
    "    validation_steps=1,\n",
    "    callbacks=[early_stopping_callback],\n",
    "    use_multiprocessing=True,\n",
    ")"
   ]
  },
  {
   "cell_type": "markdown",
   "id": "a5d565ea",
   "metadata": {},
   "source": [
    "The model's generalization power is just abysmal:"
   ]
  },
  {
   "cell_type": "code",
   "execution_count": 73,
   "id": "c6a68178",
   "metadata": {},
   "outputs": [
    {
     "name": "stdout",
     "output_type": "stream",
     "text": [
      "Neuronal Net: Train RMSE:\n",
      "0.04235363106366268\n",
      "Neuronal Net: Train R squared:\n",
      "0.9869180397873769\n",
      "Neuronal Net: Test RMSE:\n",
      "0.7877175064106096\n",
      "Neuronal Net: Test R squared:\n",
      "0.1812312096816805\n"
     ]
    }
   ],
   "source": [
    "# Make predictions on the train and test data\n",
    "train_preds = model(X_train).numpy()\n",
    "test_preds = model(X_test).numpy()\n",
    "\n",
    "# Print scores\n",
    "print(\"Neuronal Net: Train RMSE:\")\n",
    "print(mean_squared_error(train_preds, y_train, squared=False))\n",
    "print(\"Neuronal Net: Train R squared:\")\n",
    "print(r2_score(train_preds, y_train))\n",
    "print(\"Neuronal Net: Test RMSE:\")\n",
    "print(mean_squared_error(test_preds, y_test, squared=False))\n",
    "print(\"Neuronal Net: Test R squared:\")\n",
    "print(r2_score(test_preds, y_test))"
   ]
  }
 ],
 "metadata": {
  "kernelspec": {
   "display_name": "Python 3 (ipykernel)",
   "language": "python",
   "name": "python3"
  },
  "language_info": {
   "codemirror_mode": {
    "name": "ipython",
    "version": 3
   },
   "file_extension": ".py",
   "mimetype": "text/x-python",
   "name": "python",
   "nbconvert_exporter": "python",
   "pygments_lexer": "ipython3",
   "version": "3.9.12"
  },
  "name": "House_Prices_Comp_Kaggle_LTs.ipynb"
 },
 "nbformat": 4,
 "nbformat_minor": 5
}
